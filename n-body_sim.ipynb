{
 "cells": [
  {
   "cell_type": "code",
   "execution_count": 1,
   "id": "multiple-contribution",
   "metadata": {},
   "outputs": [],
   "source": [
    "import numpy as np\n",
    "import matplotlib.pyplot as plt\n",
    "import math"
   ]
  },
  {
   "cell_type": "code",
   "execution_count": 2,
   "id": "featured-relations",
   "metadata": {},
   "outputs": [],
   "source": [
    "def dist(u, v):\n",
    "    return np.sum((v - u) ** 2) ** 0.5\n",
    "\n",
    "def force(k, M_1, M_2, P_1, P_2):\n",
    "    return k * M_1 * M_2 * (P_2 - P_1) / dist(P_2, P_1) ** 3\n",
    "\n",
    "def simulate(k, dt, p, m, v, iterations, pr):\n",
    "    fig = plt.figure(figsize=(15, 15))\n",
    "    ax = fig.add_subplot(111, projection='3d')\n",
    "    c = np.random.rand(len(m), 3)\n",
    "    for i in range(iterations):\n",
    "        ax.set_xlim(-pr, pr)\n",
    "        ax.set_ylim(-pr, pr)\n",
    "        ax.set_zlim(-pr, pr)\n",
    "        ax.grid(False)\n",
    "        plot = ax.scatter(p[:, 0], p[:, 1], p[:, 2], c=c, alpha=0.6) \n",
    "        plt.savefig(f'.../iteration_{i}.png') # <- choose dir to save in\n",
    "        ax.clear()\n",
    "        p = p + v * dt \n",
    "        a = np.zeros_like(v) \n",
    "        for j in range(len(m)):\n",
    "            for k in range(j + 1, len(m)):\n",
    "                F = force(k, m[j], m[k], p[j], p[k])\n",
    "                a[j], a[k] = a[j] + F / m[j], a[k] - F / m[k]\n",
    "        v = v + a * dt \n",
    "    plt.close(fig)\n",
    "    print('saved!')"
   ]
  },
  {
   "cell_type": "code",
   "execution_count": 3,
   "id": "honey-resort",
   "metadata": {},
   "outputs": [
    {
     "name": "stdin",
     "output_type": "stream",
     "text": [
      "# bodies:  8\n",
      "G:  3e-2\n",
      "delta t:  2e-2\n",
      "# iterations:  600\n",
      "position bound:  6\n"
     ]
    }
   ],
   "source": [
    "n = int(input('# bodies: ')) # bodies\n",
    "k = float(input('G: ')) # gravitational constant\n",
    "dt = float(input('delta t: ')) # time step size\n",
    "iterations = int(input('# iterations: ')) \n",
    "prng = int(input('position bound: ')) \n",
    "p = np.random.uniform(-prng, prng, (n, 3)) # initial position\n",
    "m = np.random.uniform(0., 0.5, n) # body masses\n",
    "v = np.random.uniform(-1, 1, (n, 3)) # initial velocities"
   ]
  },
  {
   "cell_type": "code",
   "execution_count": 4,
   "id": "smart-freeware",
   "metadata": {},
   "outputs": [
    {
     "name": "stdout",
     "output_type": "stream",
     "text": [
      "saved!\n"
     ]
    }
   ],
   "source": [
    "p[-1], m[-1], v[-1] = p[-1] * 0, m[-1] * 15, v[-1] / 5 # create an attractor (increase m and reduce v)\n",
    "simulate(k, dt, p, m, v, iterations, prng * 2) # simulate!"
   ]
  }
 ],
 "metadata": {
  "kernelspec": {
   "display_name": "Python 3",
   "language": "python",
   "name": "python3"
  },
  "language_info": {
   "codemirror_mode": {
    "name": "ipython",
    "version": 3
   },
   "file_extension": ".py",
   "mimetype": "text/x-python",
   "name": "python",
   "nbconvert_exporter": "python",
   "pygments_lexer": "ipython3",
   "version": "3.8.6"
  }
 },
 "nbformat": 4,
 "nbformat_minor": 5
}
