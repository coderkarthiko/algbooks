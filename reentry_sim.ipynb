{
 "cells": [
  {
   "cell_type": "markdown",
   "id": "sixth-running",
   "metadata": {},
   "source": [
    "## import libraries"
   ]
  },
  {
   "cell_type": "code",
   "execution_count": 1,
   "id": "unnecessary-subject",
   "metadata": {},
   "outputs": [],
   "source": [
    "import numpy as np\n",
    "import matplotlib.pyplot as plt"
   ]
  },
  {
   "cell_type": "markdown",
   "id": "capable-peninsula",
   "metadata": {},
   "source": [
    "## functions"
   ]
  },
  {
   "cell_type": "code",
   "execution_count": 2,
   "id": "correct-given",
   "metadata": {},
   "outputs": [],
   "source": [
    "# angle btw 2 vectors\n",
    "def angle(a, b):\n",
    "    return 360 * np.arccos(np.dot(a, b) / (np.linalg.norm(a) * np.linalg.norm(b))) / (2 * np.pi)\n",
    "\n",
    "# altitude\n",
    "def height(p):\n",
    "    return np.linalg.norm(p) - radius\n",
    "\n",
    "# Mars atmospheric density variation \n",
    "def rho(h):\n",
    "    if h < 100000: \n",
    "        return 10 ** (-6.5 + (4.85 * (100 - (h / 1000)) / 100))\n",
    "    else:\n",
    "        return 10 ** (-10 + (3 * (140 - (h / 1000)) / 40))\n",
    "\n",
    "# g-force \n",
    "def g(p, mu):\n",
    "    return -mu * p / (np.linalg.norm(p) ** 3)\n",
    "\n",
    "# drag force\n",
    "def drag(h, A, Cd, v):\n",
    "    return rho(h) * A * Cd * v * np.linalg.norm(v) / 2"
   ]
  },
  {
   "cell_type": "markdown",
   "id": "proprietary-cooling",
   "metadata": {},
   "source": [
    "## parameters"
   ]
  },
  {
   "cell_type": "code",
   "execution_count": 3,
   "id": "charming-clerk",
   "metadata": {},
   "outputs": [],
   "source": [
    "M = 0.64171e24 # Mass of Mars\n",
    "m = 2e5 # Mass of craft\n",
    "mu = 6.67e-11 * M # gravitational parameter\n",
    "radius = 3389500 # radius of Mars\n",
    "p = np.array([3.61e6, -3e6, 0.]) # initial Starship position\n",
    "v = np.array([0, 7e3, 0]) # initial Starship velocity\n",
    "a = np.zeros(3) # initial Starship acceleration\n",
    "A = np.pi * 4.7 * 50 # Starship area \n",
    "Cd = 3 # Drag coefficient \n",
    "dt = 0.001 # time increment\n",
    "x = np.arange(0, 2 * np.pi, 0.0001) # plot Mars :D\n",
    "px, py = [], [] # Starship x and y coordinates\n",
    "vs, h, acc = [], [], [] # Starship velocity, altitude and acceleration\n",
    "bfheight = 2000 # belly flop height\n",
    "iterations = 550000 # iterations\n",
    "timesteps = np.arange(0, iterations * dt, dt)"
   ]
  },
  {
   "cell_type": "markdown",
   "id": "successful-sweet",
   "metadata": {},
   "source": [
    "## simulate"
   ]
  },
  {
   "cell_type": "code",
   "execution_count": 4,
   "id": "middle-costa",
   "metadata": {},
   "outputs": [
    {
     "name": "stdout",
     "output_type": "stream",
     "text": [
      "no flop and crash!\n"
     ]
    }
   ],
   "source": [
    "for i in range(iterations):\n",
    "    p += v * dt # update position\n",
    "    px.append(p[0]) # track x\n",
    "    py.append(p[1]) # track y\n",
    "    h.append(height(p)) # calculate altitude\n",
    "    a = g(p, mu) - drag(h[-1], A, Cd, v) / m # calculate acceleration\n",
    "    acc.append(np.linalg.norm(a)) # track acceleration\n",
    "    v += a * dt # update velocity\n",
    "    vs.append(np.linalg.norm(v)) # track velocity\n",
    "    vperp = (vs[-1] * np.array([-p[1], p[0], 0.])).sum() / (h[-1] + radius)\n",
    "    if h[-1] < bfheight: # stop sim at alt <= bfheight - check if belly flop or bust\n",
    "        if vperp <= 10: \n",
    "            print(\"belly flop but crash!\")\n",
    "        else:\n",
    "            print(\"no flop and crash!\")\n",
    "        break\n",
    "    else:\n",
    "        if vperp <= 10:\n",
    "            print(\"belly flop and land!\")\n",
    "            break\n",
    "        else:\n",
    "            continue"
   ]
  },
  {
   "cell_type": "markdown",
   "id": "ahead-jurisdiction",
   "metadata": {},
   "source": [
    "## results"
   ]
  },
  {
   "cell_type": "code",
   "execution_count": 5,
   "id": "hydraulic-annotation",
   "metadata": {},
   "outputs": [
    {
     "data": {
      "image/png": "[encoded data removed]",
      "text/plain": [
       "<Figure size 1080x504 with 2 Axes>"
      ]
     },
     "metadata": {
      "needs_background": "light"
     },
     "output_type": "display_data"
    },
    {
     "name": "stdout",
     "output_type": "stream",
     "text": [
      "alt: 1999.9676031800918m\n",
      "v: 244.94727035625158m/s\n",
      "v-perp wrt gr: 234.0464513117351m/s\n",
      "v-angle wrt p: 128.11367524086373\n",
      "acc: 4.680848481232415m/s^2\n",
      "peak g: 17.683481497796606g\n",
      "peak g alt: 24598.250259786844m\n",
      "flight time: 521.544s\n"
     ]
    }
   ],
   "source": [
    "fig = plt.figure(figsize=(15, 7))\n",
    "plt.subplot(1, 2, 1)\n",
    "plt.xlim([-6e6, 6e6])\n",
    "plt.ylim([-6e6, 6e6])\n",
    "plt.plot(px, py)\n",
    "plt.plot(radius * np.cos(x), radius * np.sin(x))\n",
    "plt.subplot(1, 2, 2)\n",
    "plt.xlabel(\"velocity (m/s)\")\n",
    "plt.ylabel(\"altitude (m)\")\n",
    "plt.plot(vs, h)\n",
    "plt.show()\n",
    "print(f\"alt: {h[-1]}m\")\n",
    "print(f\"v: {vs[-1]}m/s\")\n",
    "print(f\"v-perp wrt gr: {vperp}m/s\")\n",
    "print(f\"v-angle wrt p: {angle(p, v)}\")\n",
    "print(f\"acc: {acc[-1]}m/s^2\")\n",
    "print(f\"peak g: {max(acc) / 9.81}g\")\n",
    "print(f\"peak g alt: {h[np.argmax(acc)]}m\")\n",
    "print(f\"flight time: {i * dt}s\")"
   ]
  }
 ],
 "metadata": {
  "kernelspec": {
   "display_name": "Python 3",
   "language": "python",
   "name": "python3"
  },
  "language_info": {
   "codemirror_mode": {
    "name": "ipython",
    "version": 3
   },
   "file_extension": ".py",
   "mimetype": "text/x-python",
   "name": "python",
   "nbconvert_exporter": "python",
   "pygments_lexer": "ipython3",
   "version": "3.8.6"
  }
 },
 "nbformat": 4,
 "nbformat_minor": 5
}
